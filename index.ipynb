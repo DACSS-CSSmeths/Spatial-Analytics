{
 "cells": [
  {
   "cell_type": "markdown",
   "id": "2921b8d1",
   "metadata": {},
   "source": [
    "<center><img src=\"https://github.com/DACSS-CSSmeths/guidelines/blob/main/pics/small_logo_ccs_meths.jpg?raw=true\" width=\"700\"></center>\n",
    "\n",
    "\n",
    "\n",
    "\n",
    "\n",
    "\n",
    "\n"
   ]
  },
  {
   "cell_type": "markdown",
   "id": "ae6c03fb-08dc-42d2-999c-ef1315ddb32f",
   "metadata": {},
   "source": [
    "# Insight from spatial data\n",
    "\n",
    "Let me bring a file previously prepared in [Colab](https://colab.research.google.com/drive/1poKKGEsOkTTjwi5ildq2-kMet29HYfpQ?usp=sharing) using FuzzyMerge:"
   ]
  },
  {
   "cell_type": "code",
   "execution_count": null,
   "id": "9a840636-49ab-4a6d-9bb6-0e344822e3e5",
   "metadata": {},
   "outputs": [],
   "source": [
    "# map\n",
    "import geopandas as gpd\n",
    "\n",
    "peru_hdi_map_link=\"https://github.com/DACSS-CSSmeths/Spatial-Analytics/raw/refs/heads/main/map/perudata.gpkg\"\n",
    "\n",
    "peru_hdi_map=gpd.read_file(peru_hdi_map_link,layer='hdi')\n",
    "\n",
    "peru_hdi_map.info()"
   ]
  },
  {
   "cell_type": "markdown",
   "id": "ee1c5fda-d4d7-4e71-8c17-086afede1b6b",
   "metadata": {},
   "source": [
    "This is a GeoDF with data on Human Development at the municipal (_municipality_) level, including this relevant social info:\n",
    "\n",
    "\n",
    "* **hdi**: The human development index of the municipality\n",
    "\n",
    "* **graduated_HS**: Percent of population that finished High School\n",
    "\n",
    "* **No_basicNeeds**: Percent of households without basic needs.\n",
    "\n",
    "* **No_sanitaryServ**:Percent of households without sanitary services."
   ]
  },
  {
   "cell_type": "markdown",
   "id": "bf687cb0-169e-4ade-adfa-0eb422861554",
   "metadata": {},
   "source": [
    "Take a quick look:"
   ]
  },
  {
   "cell_type": "code",
   "execution_count": null,
   "id": "2d0623ae-f403-43de-a997-5c623098b0ec",
   "metadata": {},
   "outputs": [],
   "source": [
    "peru_hdi_map.head()"
   ]
  },
  {
   "cell_type": "markdown",
   "id": "4944a216-12d8-423c-9461-ea8a28c06c69",
   "metadata": {},
   "source": [
    "## Mining one variable beyond choropleths"
   ]
  },
  {
   "cell_type": "markdown",
   "id": "83007cf5",
   "metadata": {},
   "source": [
    "Let me use the *Fisher_Jenks* scheme on one variable:"
   ]
  },
  {
   "cell_type": "code",
   "execution_count": null,
   "id": "31d85b70-12c8-430a-8a85-bdb6b74cafd6",
   "metadata": {},
   "outputs": [],
   "source": [
    "peru_hdi_map.plot(\n",
    "    column=\"hdi\", \n",
    "    scheme=\"fisherjenks\",\n",
    "    legend=True, figsize=(6,10)\n",
    ")"
   ]
  },
  {
   "cell_type": "markdown",
   "id": "ae478ec3-fdbf-4e1c-96b7-8655a6785efd",
   "metadata": {},
   "source": [
    "From the last [tutorial](https://dacss-cssmeths.github.io/Spatial-Exploring/), even though there are ways to highlight some relevant values, now we will work to get statistically significant patterns, easier to read.\n",
    "\n",
    "We are using maps to relate values to location: **Are the values of my unit of analysis affected by their location?**\n",
    "\n",
    "Let's follow these steps to propose an answer:\n",
    "\n",
    "- Identify the **neighborhood**: One location should be able to **see** how their neighbors \"behave\".\n",
    "- Compute a measure of neighborhood effect: how know statiscally whether proximity is affecting or not.\n",
    "- If proximity is affecting, find the neighborhoods that statistically show some spatial pattern.\n"
   ]
  },
  {
   "cell_type": "markdown",
   "id": "acb9ee6b-4c2f-4944-8021-b312bd0036d7",
   "metadata": {},
   "source": [
    "## 1. Identify the _neighborhood_\n",
    "\n",
    "The neighborhood is the set of objects around one object. The problem is the meaning of \"around\". The figure below shows the two ways we can identify a neighborhood (from [Vilella at al.](https://epjdatascience.springeropen.com/articles/10.1140/epjds/s13688-020-00228-9)):\n",
    "\n",
    "\n",
    "\n",
    "<center><img src=\"https://github.com/DACSS-CSSmeths/Spatial-Analytics/blob/main/neighborhood.jpg?raw=true\" width=\"700\"></center>\n",
    "\n",
    "\n",
    "\n",
    "In maps, the **QUEEN** approach considers that two spatial objects (i.e. polygons) are neighbors if their borders share one coordinate (point); the **ROOK** approach considers that two spatial objects  are neighbors if their borders share two coordinates (a line). \n",
    "\n",
    "Of course, you can have neighbors that are not contiguous (touching your borders), particularly if they are not polygons (lines or points). In that case you have a different approach: the nearest neighbor or **KNN** (you count as many \"k\" neighbors you want).\n",
    "\n",
    "Let me call the functions I need:"
   ]
  },
  {
   "cell_type": "code",
   "execution_count": null,
   "id": "86843321-186e-4802-aba4-3e91a6b1b14f",
   "metadata": {},
   "outputs": [],
   "source": [
    "from libpysal.weights import Queen, Rook, KNN"
   ]
  },
  {
   "cell_type": "markdown",
   "id": "0107ae73-76b3-42ce-a713-d1c23a021cba",
   "metadata": {},
   "source": [
    "Now, I will find all the neighbors:"
   ]
  },
  {
   "cell_type": "code",
   "execution_count": null,
   "id": "77cf538d-526a-41e2-a0d1-00cd14e2a33b",
   "metadata": {},
   "outputs": [],
   "source": [
    "w_rook = Rook.from_dataframe(peru_hdi_map,use_index=False) \n",
    "w_queen = Queen.from_dataframe(peru_hdi_map,use_index=False)\n",
    "w_knn8 = KNN.from_dataframe(peru_hdi_map, k=8) # you want '8'"
   ]
  },
  {
   "cell_type": "markdown",
   "id": "f021b48d-9205-447e-8c77-2b0052b12ce0",
   "metadata": {},
   "source": [
    "The QUEEN and ROOK sent a warning, because some polygons had no neighbors (islands).\n",
    "Here they are:"
   ]
  },
  {
   "cell_type": "code",
   "execution_count": null,
   "id": "43e94f85-5004-4092-abcf-326890c25e6e",
   "metadata": {},
   "outputs": [],
   "source": [
    "#the rows:\n",
    "w_queen.islands"
   ]
  },
  {
   "cell_type": "code",
   "execution_count": null,
   "id": "6709a1e6-df80-44d9-b90d-b4ab81490726",
   "metadata": {},
   "outputs": [],
   "source": [
    "#the municipalities\n",
    "peru_hdi_map.iloc[w_queen.islands,:]"
   ]
  },
  {
   "cell_type": "code",
   "execution_count": null,
   "id": "9e01e82e-f39a-4297-86e6-b976972a8061",
   "metadata": {},
   "outputs": [],
   "source": [
    "# just plotting\n",
    "peru_hdi_map.iloc[w_queen.islands,:].explore()"
   ]
  },
  {
   "cell_type": "markdown",
   "id": "7486edd8",
   "metadata": {},
   "source": [
    "Notice the inventory of neighbors:"
   ]
  },
  {
   "cell_type": "code",
   "execution_count": null,
   "id": "eb99fe0e-1653-4bc7-b999-89ad9d6db6b4",
   "metadata": {
    "scrolled": true
   },
   "outputs": [],
   "source": [
    "import pandas as pd # using pandas to ease analysis of data\n",
    "\n",
    "# I am turning \"w_queen.neighbors\" into a pandas column (a 'Series')\n",
    "\n",
    "pd.Series(w_queen.neighbors).head()"
   ]
  },
  {
   "cell_type": "markdown",
   "id": "47635a62-5345-48b9-82bc-f3fc478c6e1d",
   "metadata": {},
   "source": [
    "Above, you see the indexes (row numbers); that is, the polygon 0 (the first row) has polygon \"1\" and \"3\" as neighbors. \n",
    "You can also know how many neighbors each on has:"
   ]
  },
  {
   "cell_type": "code",
   "execution_count": null,
   "id": "d4092089-03c3-4ce4-b991-a44a42a41796",
   "metadata": {},
   "outputs": [],
   "source": [
    "pd.Series(w_queen.cardinalities).head()"
   ]
  },
  {
   "cell_type": "markdown",
   "id": "58047f35-8144-42b6-abb8-165949da5c05",
   "metadata": {},
   "source": [
    "In this case, we can see the counting of the above: polygon 0 (the first row) has two neighbors. \n",
    "\n",
    "You may not expect the same results from both techniques. The next figure shows you that."
   ]
  },
  {
   "cell_type": "code",
   "execution_count": null,
   "id": "28aac7eb-cf69-4cbe-bbb2-2eadec687942",
   "metadata": {},
   "outputs": [],
   "source": [
    "Queen_Rook={'queen':w_queen.cardinalities,'rook':w_rook.cardinalities}\n",
    "\n",
    "import seaborn as sea\n",
    "import pandas as pd\n",
    "from matplotlib import pyplot as plt\n",
    "\n",
    "\n",
    "sea.histplot(pd.DataFrame(Queen_Rook),multiple=\"dodge\")\n",
    "plt.xlabel('Amount of Neighbors of a Municipality')"
   ]
  },
  {
   "cell_type": "markdown",
   "id": "8b1899e2-554d-41ce-b38b-0830802ccaae",
   "metadata": {},
   "source": [
    "## 2. Compute a measure of neighborhood effect: Global spatial correlation"
   ]
  },
  {
   "cell_type": "markdown",
   "id": "0e79d038-a155-4ce4-a877-1ca9e1e7f2f2",
   "metadata": {},
   "source": [
    "### The adjacency matrix\n",
    "We were able compute all the previous information because the algorithms _Queen_, _Rook_ and _KNN_ created an **adjacency matrix**. Take a look:"
   ]
  },
  {
   "cell_type": "code",
   "execution_count": null,
   "id": "59143e63-f478-419e-a84a-3617f5c6fc90",
   "metadata": {
    "scrolled": true
   },
   "outputs": [],
   "source": [
    "pd.DataFrame(*w_queen.full()) # 1 means both are neighbors"
   ]
  },
  {
   "cell_type": "markdown",
   "id": "58632a02-d703-4ea9-bc1d-39a33ffbdc2a",
   "metadata": {},
   "source": [
    "The presence of **1** means two units are neighbors, for example 1871 and 1870 are neighbors, but none of them is connected to 1869:"
   ]
  },
  {
   "cell_type": "code",
   "execution_count": null,
   "id": "a942902b-5b7d-420a-975e-69a1d842912d",
   "metadata": {},
   "outputs": [],
   "source": [
    "peru_hdi_map.loc[[1869,1870,1871],:].plot(color='w', edgecolor='k')"
   ]
  },
  {
   "cell_type": "markdown",
   "id": "f0721a79",
   "metadata": {},
   "source": [
    "### The spatial weight matrix\n",
    "\n",
    "The spatial correlation needs the previous adjacency matrix as a **weight matrix**, you get it this way:"
   ]
  },
  {
   "cell_type": "code",
   "execution_count": null,
   "id": "0b103792-bf59-4965-bf9a-17d51be8b49b",
   "metadata": {},
   "outputs": [],
   "source": [
    "w_knn8.transform = 'R'"
   ]
  },
  {
   "cell_type": "markdown",
   "id": "7edf4b2c-8207-4f93-aa59-842d81fb7e45",
   "metadata": {},
   "source": [
    " Now, the sum of every row is ONE:"
   ]
  },
  {
   "cell_type": "code",
   "execution_count": null,
   "id": "a57356f5-5d92-48e7-b135-12ce0e0ea09d",
   "metadata": {},
   "outputs": [],
   "source": [
    "# after transformation\n",
    "pd.DataFrame(*w_knn8.full())"
   ]
  },
  {
   "cell_type": "markdown",
   "id": "59ed5783-a514-4404-bbcb-13ba2ec6e3a0",
   "metadata": {},
   "source": [
    "You see the sum by rows (axis=1) here:"
   ]
  },
  {
   "cell_type": "code",
   "execution_count": null,
   "id": "5973300b-cad5-48f5-9100-0bcf8e8799a9",
   "metadata": {},
   "outputs": [],
   "source": [
    "pd.DataFrame(*w_knn8.full()).sum(axis=1)"
   ]
  },
  {
   "cell_type": "markdown",
   "id": "45af9ad6-5ed4-400b-8c02-b348bffbb198",
   "metadata": {},
   "source": [
    "### The Global Moran"
   ]
  },
  {
   "cell_type": "markdown",
   "id": "dab308c8-26ad-45bb-aa05-5462cd07fc5c",
   "metadata": {},
   "source": [
    "Most people are familiar with Pearson correlation coefficient (_Person's R_). The R coefficient tells the relationship between two variables. We will do something similar now.\n",
    "\n",
    "Take the variable _hdi_ from the GeoDF *peru_hdi_map*. But in this case, we will not use another variable. We will the same variable twice! that is: comparing if there is some correlation between the _hdi_ of a municipality, with the _hdi_ of the neighbors. The results is known as the **Moran's I** statistic. Let's get it:"
   ]
  },
  {
   "cell_type": "code",
   "execution_count": null,
   "id": "a7aaedad-e443-407c-9146-3b87c94f237c",
   "metadata": {},
   "outputs": [],
   "source": [
    "from esda.moran import Moran\n",
    "\n",
    "# we use the variable 'hdi' and the weight matrix\n",
    "moranHDI = Moran(y=peru_hdi_map['hdi'], \n",
    "                 w=w_knn8)\n",
    "\n",
    "# results\n",
    "moranHDI.I, moranHDI.p_sim"
   ]
  },
  {
   "cell_type": "markdown",
   "id": "59b5e43c-18c7-4b52-9760-f48509bc6ebe",
   "metadata": {},
   "source": [
    "Now we know that there is significant (0.001)  positive correlation (0.63): **when the value of hdi is high in one location, it is usually high in the neighbors (or if it is low, it is usually low in the neighbors)**. \n",
    "\n",
    "So far we have the GLOBAL Moran's I. That tells us the global tendency. But it would be even more interesting to know where the areas where spatial correlation (neighboorhood effect!) is actually happening. For that you need the local Moran!"
   ]
  },
  {
   "cell_type": "markdown",
   "id": "2b6a56a5-c9ff-4642-9e57-a98b9195c867",
   "metadata": {},
   "source": [
    "## 3. Find Spatial patterns on neigborhoods\n",
    "\n",
    "Here we need to compute the  **Local Index of Spatial Association** (LISA -local Moran) for each map object. That will help us identify different **quadrants**, that represent a spatial clusters (spots) or spatial outliers:\n",
    "\n",
    "* A **hotSpot (HH)** are geometries who are in a neighborhood of high values of a particular variable.\n",
    "\n",
    "* A **coldSpot (LL)** are geometries who are in a neighborhood of low values  of a particular variable.\n",
    "\n",
    "* A **coldOutlier (LH)** is a geometry whose value in the variable is low BUT is surrounded with polygons with  high values  of a particular variable.\n",
    "\n",
    "* A **hotOutlier (HL)** is a geometry whose value in the variable is high BUT is surrounded with polygons with  low values  of a particular variable.\n",
    "\n",
    "It is also possible that no significant correlation is detected. Let's see compute LISA:"
   ]
  },
  {
   "cell_type": "code",
   "execution_count": null,
   "id": "4e0800fd",
   "metadata": {},
   "outputs": [],
   "source": [
    "# A LISA for each district using hdi\n",
    "from esda.moran import Moran_Local\n",
    "\n",
    "lisa_HDI = Moran_Local(y=peru_hdi_map['hdi'], \n",
    "                       w=w_knn8,\n",
    "                       seed=2022) # use this seed if you want to get the same results."
   ]
  },
  {
   "cell_type": "markdown",
   "id": "c5acf306-b47c-4914-b050-e2a32b5ad43a",
   "metadata": {},
   "source": [
    "You have this information in lisa_HDI:"
   ]
  },
  {
   "cell_type": "code",
   "execution_count": null,
   "id": "b627cccc-7123-45a0-ba53-9f661bac77f7",
   "metadata": {},
   "outputs": [],
   "source": [
    "# quadrant, # significance\n",
    "ResultLISA=pd.DataFrame({'lisa_Qlabel':lisa_HDI.q, 'lisa_Qsig':lisa_HDI.p_sim})\n",
    "ResultLISA"
   ]
  },
  {
   "cell_type": "markdown",
   "id": "183fea09-6fcd-4b9d-9d5f-16110518f5b3",
   "metadata": {},
   "source": [
    "The first column **lisa_Qlabel** tells you to what quadrant the municipality is in; this is the legend: \n",
    "\n",
    "* 1 HH\n",
    "* 2 LH\n",
    "* 3 LL\n",
    "* 4 HL\n",
    "\n",
    "The LISA also offers you the probability that the local relationship is statistically significant. The second column **lisa_Qsig** tells you that. We need to identify which are not statistically significant, so let me relabel as **0** the non significant quadrant. Let's follow these steps:"
   ]
  },
  {
   "cell_type": "markdown",
   "id": "03839dc8-d4ce-4a0a-b797-e5d4faf9f07f",
   "metadata": {},
   "source": [
    "1. Identify which QUADRANT LABELs are NOT significant:"
   ]
  },
  {
   "cell_type": "code",
   "execution_count": null,
   "id": "e8f7c4de-bdb7-473e-ab70-217665d5b4c8",
   "metadata": {},
   "outputs": [],
   "source": [
    "# renaming q as 0, if p is less than 0.05\n",
    "peru_hdi_map['HDI_quadrant']=[q if p <0.05 else 0 for q,p in zip(ResultLISA.lisa_Qlabel,ResultLISA.lisa_Qsig)  ]"
   ]
  },
  {
   "cell_type": "markdown",
   "id": "0a66f4ed-42fc-4011-bc66-000d164162f4",
   "metadata": {},
   "source": [
    "Now, we know:"
   ]
  },
  {
   "cell_type": "code",
   "execution_count": null,
   "id": "b9bedff6-0276-42e5-bc60-118274bf0151",
   "metadata": {},
   "outputs": [],
   "source": [
    "# quadrant: 0:No_sig 1 HH,  2 LH,  3 LL,  4 HL\n",
    "peru_hdi_map['HDI_quadrant'].value_counts()"
   ]
  },
  {
   "cell_type": "markdown",
   "id": "22463f67-93b7-4034-b23b-fa4ad5ae78e7",
   "metadata": {},
   "source": [
    "We have 1005 districts (polygons) where the local correlation is not statistically significant. We have 422 districts in neighborhoods of the kind LL (all have low values in HDI), and so on."
   ]
  },
  {
   "cell_type": "markdown",
   "id": "1db7d1b7-e2cb-4ea4-b9ca-caa28855c89b",
   "metadata": {},
   "source": [
    "\n",
    "2. Rename **HDI_quadrant**\n",
    "\n",
    "   Instead of numbers, we can have labels:"
   ]
  },
  {
   "cell_type": "code",
   "execution_count": null,
   "id": "6611d35f-41dc-4080-9d1f-aeea67dfd8b7",
   "metadata": {},
   "outputs": [],
   "source": [
    "# the dictionary to make changes\n",
    "newLabels = {0: '0_NoSig',1: '1_HotSpot',2: '2_ColdOutlier',3: '3_ColdSpot',4: '4_HotOutlier'}\n",
    "newLabels"
   ]
  },
  {
   "cell_type": "markdown",
   "id": "848c3b1b-7f4d-4456-8d9b-be983ef188fc",
   "metadata": {},
   "source": [
    "Here we recode:"
   ]
  },
  {
   "cell_type": "code",
   "execution_count": null,
   "id": "8d9e769f-9f36-40eb-8ca5-639bff146577",
   "metadata": {},
   "outputs": [],
   "source": [
    "peru_hdi_map.replace({'HDI_quadrant':newLabels},inplace=True)\n",
    "\n",
    "\n",
    "# now\n",
    "peru_hdi_map['HDI_quadrant'].value_counts()"
   ]
  },
  {
   "cell_type": "markdown",
   "id": "7e4b40b8-88ef-4c63-bc4e-08fad9ca4013",
   "metadata": {},
   "source": [
    "We have the data ready."
   ]
  },
  {
   "cell_type": "code",
   "execution_count": null,
   "id": "5f62c590-5b6a-4051-8d64-c685a818d983",
   "metadata": {},
   "outputs": [],
   "source": [
    "peru_hdi_map.info()"
   ]
  },
  {
   "cell_type": "markdown",
   "id": "fc25a85b-77df-44a4-8c8a-ddfb6f4009b3",
   "metadata": {},
   "source": [
    "Let's save this data:"
   ]
  },
  {
   "cell_type": "code",
   "execution_count": null,
   "id": "c8b53806-bf57-44c4-809a-505930a4a8cc",
   "metadata": {},
   "outputs": [],
   "source": [
    "peru_hdi_map.to_file(\"peru_hdi_map.gpkg\", layer='spatial', driver=\"GPKG\")"
   ]
  },
  {
   "cell_type": "markdown",
   "id": "300a41b1-7196-464b-99dd-7d6fa90a9ae5",
   "metadata": {},
   "source": [
    "We can use this plot this last column:"
   ]
  },
  {
   "cell_type": "code",
   "execution_count": null,
   "id": "fc7a75db-95a3-40b9-ab0b-392a1a4f4ee6",
   "metadata": {
    "scrolled": true
   },
   "outputs": [],
   "source": [
    "from matplotlib import colors\n",
    "\n",
    "# custom colors\n",
    "myColMap = colors.ListedColormap([ 'gold', 'pink', 'k', 'cyan','red'])\n",
    "\n",
    "peru_hdi_map.explore(\n",
    "    column=\"HDI_quadrant\",  \n",
    "    tooltip=[\"municipality\",\"hdi\"],  \n",
    "    tiles=\"CartoDB positron\",  # use \"CartoDB positron\" tiles\n",
    "    cmap=myColMap,  # colormap\n",
    "    style_kwds=dict(stroke=False),  # no borders\n",
    "    legend_kwds={'caption':'Quadrant type'}\n",
    ")"
   ]
  },
  {
   "cell_type": "markdown",
   "id": "d5a7110e-78f0-4f85-8032-4bc97aee0182",
   "metadata": {},
   "source": [
    "One of the most important insights you get, is discovering the outliers (HL or LH). For instance these ones:"
   ]
  },
  {
   "cell_type": "code",
   "execution_count": null,
   "id": "0374e1f4-d917-4fec-ac82-bd835be4808a",
   "metadata": {},
   "outputs": [],
   "source": [
    "peru_hdi_map[peru_hdi_map.HDI_quadrant=='4_HotOutlier'].explore(color='red')"
   ]
  },
  {
   "cell_type": "markdown",
   "id": "031d6b24-ec9b-49b5-b398-ee0cda04da93",
   "metadata": {},
   "source": [
    "From here, you can propose other queries:"
   ]
  },
  {
   "cell_type": "code",
   "execution_count": null,
   "id": "5fe0dc5e-bab9-469b-a2e5-a0b15adbc851",
   "metadata": {},
   "outputs": [],
   "source": [
    "# the mean and median per quadrant:\n",
    "peru_hdi_map.groupby('HDI_quadrant').agg({'hdi': ['mean','median']})"
   ]
  },
  {
   "cell_type": "code",
   "execution_count": null,
   "id": "69fce25f-7f4c-40ea-9b90-a91b4a864882",
   "metadata": {},
   "outputs": [],
   "source": [
    "# which are the min value per quadrant:\n",
    "whichInfo=['municipality','HDI_quadrant','hdi']\n",
    "theVar='hdi'\n",
    "theGroups='HDI_quadrant'\n",
    "peru_hdi_map.loc[peru_hdi_map.groupby(theGroups)[theVar].transform(\"min\") == peru_hdi_map[theVar]][whichInfo]"
   ]
  },
  {
   "cell_type": "markdown",
   "id": "c3c018dd-4ac7-445a-8235-54c6e88892c4",
   "metadata": {},
   "source": [
    "These are the positions:"
   ]
  },
  {
   "cell_type": "code",
   "execution_count": null,
   "id": "ad60a911-9e33-417c-bfcd-79c76bb2a1e4",
   "metadata": {},
   "outputs": [],
   "source": [
    "theMins=peru_hdi_map.loc[peru_hdi_map.groupby(theGroups)[theVar].transform(\"min\") == peru_hdi_map[theVar]][whichInfo]\n",
    "theMins.index"
   ]
  },
  {
   "cell_type": "markdown",
   "id": "665367fc-1a8b-4898-bb3b-0aa82d2d5204",
   "metadata": {},
   "source": [
    "Use those positions to plot:"
   ]
  },
  {
   "cell_type": "code",
   "execution_count": null,
   "id": "8f63f689-6da8-4ad3-ab28-0f571900b84a",
   "metadata": {},
   "outputs": [],
   "source": [
    "peru_hdi_map.iloc[theMins.index,:].explore(tiles='CartoDB dark_matter',\n",
    "    column=\"HDI_quadrant\",\n",
    "    cmap=myColMap, legend=True, style_kwds={'width':4,'color':'white'}\n",
    ")"
   ]
  },
  {
   "cell_type": "markdown",
   "id": "294166ec-0bf7-4245-ba35-4fa73ac00dea",
   "metadata": {},
   "source": [
    "To check which is what in the plot above, we should use zoom. "
   ]
  },
  {
   "cell_type": "markdown",
   "id": "ae253bb3-f657-47f5-82ee-ef526e456cfb",
   "metadata": {},
   "source": [
    "# Neighborhoods based on two variables\n",
    "\n",
    "Remember we have these variables:"
   ]
  },
  {
   "cell_type": "code",
   "execution_count": null,
   "id": "9ddb39b8-d388-4e0d-ba71-dacdd0d9fddd",
   "metadata": {},
   "outputs": [],
   "source": [
    "peru_hdi_map.columns"
   ]
  },
  {
   "cell_type": "markdown",
   "id": "ab57c050-94f3-4e87-989d-1b1588428333",
   "metadata": {},
   "source": [
    "Let me see a classical correlation between two variables:"
   ]
  },
  {
   "cell_type": "code",
   "execution_count": null,
   "id": "661b233d-2679-4185-94d1-4bcd2730c008",
   "metadata": {},
   "outputs": [],
   "source": [
    "peru_hdi_map[['No_sanitaryServ','graduated_HS']].corr()"
   ]
  },
  {
   "cell_type": "code",
   "execution_count": null,
   "id": "af5c93bf-649c-4193-b4a6-6d23b47f6e79",
   "metadata": {},
   "outputs": [],
   "source": [
    "sea.regplot(data=peru_hdi_map, x='No_sanitaryServ',y='graduated_HS',line_kws=dict(color=\"r\"))"
   ]
  },
  {
   "cell_type": "markdown",
   "id": "fe480f4d-e3d8-4f1b-8d14-f3dcd900c69c",
   "metadata": {},
   "source": [
    "These two variables have values whose higher values do not represent the same 'good' or 'bad' concept as their values increase. I mean, a high value in _No_sanitaryServ_ is a bad thing, while a high values in the other is a good thing. Then, let me reverse *graduated_HS'*:"
   ]
  },
  {
   "cell_type": "code",
   "execution_count": null,
   "id": "afaea7bd-1251-4523-94a7-82b152db2221",
   "metadata": {},
   "outputs": [],
   "source": [
    "peru_hdi_map.graduated_HS.describe()"
   ]
  },
  {
   "cell_type": "code",
   "execution_count": null,
   "id": "b96c4853-eaf9-4351-aa91-f62eda68bcc5",
   "metadata": {},
   "outputs": [],
   "source": [
    "# then\n",
    "peru_hdi_map['Non_graduated_HS']=100-peru_hdi_map.graduated_HS"
   ]
  },
  {
   "cell_type": "markdown",
   "id": "553673a7-6f08-4e87-9983-f3f8d3d937a5",
   "metadata": {},
   "source": [
    "Now you expect a change here:"
   ]
  },
  {
   "cell_type": "code",
   "execution_count": null,
   "id": "6ff57caa-b117-4fa1-af5e-8a344e305e16",
   "metadata": {},
   "outputs": [],
   "source": [
    "peru_hdi_map[['No_sanitaryServ','Non_graduated_HS']].corr()"
   ]
  },
  {
   "cell_type": "code",
   "execution_count": null,
   "id": "e840d1bb-3c6a-4614-889c-2e8a63b0be30",
   "metadata": {},
   "outputs": [],
   "source": [
    "\n",
    "sea.regplot(data=peru_hdi_map, x='No_sanitaryServ',y='Non_graduated_HS',line_kws=dict(color=\"r\"))"
   ]
  },
  {
   "cell_type": "markdown",
   "id": "3ceadb95-957d-4c71-ac88-7b06b62d43a9",
   "metadata": {},
   "source": [
    "We can use TWO variables to get the **Bivariate Moran**:"
   ]
  },
  {
   "cell_type": "code",
   "execution_count": null,
   "id": "080d3201-996f-4b2f-8d1b-a68b037a6a33",
   "metadata": {},
   "outputs": [],
   "source": [
    "from esda.moran import Moran_BV\n",
    "noToilet_HS=Moran_BV(x=peru_hdi_map['No_sanitaryServ'],y=peru_hdi_map['Non_graduated_HS'], w=w_knn8)\n",
    "noToilet_HS.I,noToilet_HS.p_sim"
   ]
  },
  {
   "cell_type": "markdown",
   "id": "755aab67-2108-496a-8132-364416a39908",
   "metadata": {},
   "source": [
    "The global **Bivariate** Moran is telling that there are neighborhoods where a geometry with a high value in *No_sanitaryServ* is surrounded by high values in *Non_graduated_HS* (the low-low also holds as you know).\n",
    "\n",
    "Let's find those neighborhoods as before:"
   ]
  },
  {
   "cell_type": "code",
   "execution_count": null,
   "id": "43044dcd-f851-411e-8faf-6a6e50e671d1",
   "metadata": {},
   "outputs": [],
   "source": [
    "from esda.moran import Moran_Local_BV\n",
    "\n",
    "#HH=1, LH=2, LL=3, HL=4\n",
    "\n",
    "# this is for the local neighborhood:\n",
    "moran_loc_bv = Moran_Local_BV(x=peru_hdi_map['No_sanitaryServ'],y=peru_hdi_map['Non_graduated_HS'], w=w_knn8,seed=2022)\n",
    "\n",
    "# results as a dataframe\n",
    "ResultLISA_BV=pd.DataFrame({'BV_lisa_Qlabel':moran_loc_bv.q, 'BV_lisa_Qsig':moran_loc_bv.p_sim})\n",
    "\n",
    "# identifying the non significant relationships\n",
    "peru_hdi_map['HDI_quadrant_BV']=[q if p <0.05 else 0 for q,p in zip(ResultLISA_BV.BV_lisa_Qlabel,ResultLISA_BV.BV_lisa_Qsig)  ]\n",
    "\n",
    "# relabelling them\n",
    "peru_hdi_map.replace({'HDI_quadrant_BV':newLabels},inplace=True)\n",
    "\n",
    "# we have\n",
    "peru_hdi_map['HDI_quadrant_BV'].value_counts()"
   ]
  },
  {
   "cell_type": "markdown",
   "id": "c17f035e-4545-4578-a658-b1379b5728d8",
   "metadata": {},
   "source": [
    "For example, we can state that  we have 380 municipalities with low percent of houses that lack sanitary services, surrounded by municipalities with also low percent of people that did not finished high school. \n",
    "Notice that several spatial outliers are present, for instance, you know that there are 159 municipalities with high percent of houses that lack sanitary services, surrounded by municipalities with low percent of people that did not finished high school. "
   ]
  },
  {
   "cell_type": "markdown",
   "id": "13c1baf3-4f06-4b36-aa19-260b5a8afffb",
   "metadata": {},
   "source": [
    "Here we can see them:"
   ]
  },
  {
   "cell_type": "code",
   "execution_count": null,
   "id": "c79aba11-d707-471d-b02a-949bdae088e5",
   "metadata": {},
   "outputs": [],
   "source": [
    "peru_hdi_map.explore(\n",
    "    column=\"HDI_quadrant_BV\",  \n",
    "    tooltip=[\"municipality\",\"No_sanitaryServ\",\"graduated_HS\",\"HDI_quadrant_BV\"],  \n",
    "    tiles=\"CartoDB positron\",  \n",
    "    cmap=myColMap,  # colormap\n",
    "    style_kwds=dict(stroke=False),  \n",
    "    legend_kwds={'caption':'BV Quadrant type'}\n",
    ")"
   ]
  },
  {
   "cell_type": "markdown",
   "id": "b3065459-b684-4139-978d-dfb7dd2e8ee6",
   "metadata": {},
   "source": [
    "Let me rewrite the map file:"
   ]
  },
  {
   "cell_type": "code",
   "execution_count": null,
   "id": "a6d7f343-95d1-4a9c-addd-1a688f69e0c3",
   "metadata": {},
   "outputs": [],
   "source": [
    "peru_hdi_map.to_file(\"peru_hdi_map.gpkg\", layer='spatial', driver=\"GPKG\")"
   ]
  },
  {
   "cell_type": "markdown",
   "id": "d857a017",
   "metadata": {},
   "source": [
    "\n",
    "\n",
    "<div class=\"alert-success\">\n",
    "\n",
    "<header>\n",
    "    <h1>Homework 1 (alternative)</h1>\n",
    "    \n",
    "  </header>\n",
    "    \n",
    "\n",
    "    \n",
    "</div>"
   ]
  },
  {
   "cell_type": "markdown",
   "id": "51d1de0c-6261-4301-904b-5d1272838090",
   "metadata": {},
   "source": [
    "MAPA [JSON](https://gist.github.com/sdwfrost/d1c73f91dd9d175998ed166eb216994a)\n",
    "DATA EXC"
   ]
  },
  {
   "cell_type": "code",
   "execution_count": null,
   "id": "46f088e0-5c4b-47e3-9f5c-16163d84c649",
   "metadata": {},
   "outputs": [],
   "source": []
  }
 ],
 "metadata": {
  "kernelspec": {
   "display_name": "Python 3 (ipykernel)",
   "language": "python",
   "name": "python3"
  },
  "language_info": {
   "codemirror_mode": {
    "name": "ipython",
    "version": 3
   },
   "file_extension": ".py",
   "mimetype": "text/x-python",
   "name": "python",
   "nbconvert_exporter": "python",
   "pygments_lexer": "ipython3",
   "version": "3.10.16"
  }
 },
 "nbformat": 4,
 "nbformat_minor": 5
}
